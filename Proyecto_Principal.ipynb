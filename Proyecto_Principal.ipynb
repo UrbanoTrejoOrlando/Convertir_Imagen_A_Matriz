{
 "cells": [
  {
   "cell_type": "code",
   "execution_count": 1,
   "id": "71c67923",
   "metadata": {},
   "outputs": [
    {
     "name": "stdout",
     "output_type": "stream",
     "text": [
      "Matriz de la imagen:\n",
      "[[[130 114  91]\n",
      "  [129 113  90]\n",
      "  [128 112  89]\n",
      "  ...\n",
      "  [ 23  31  30]\n",
      "  [ 23  31  30]\n",
      "  [ 22  30  29]]\n",
      "\n",
      " [[130 114  91]\n",
      "  [129 113  90]\n",
      "  [128 112  89]\n",
      "  ...\n",
      "  [ 23  31  30]\n",
      "  [ 23  31  30]\n",
      "  [ 22  30  29]]\n",
      "\n",
      " [[130 114  91]\n",
      "  [130 114  91]\n",
      "  [129 113  90]\n",
      "  ...\n",
      "  [ 23  31  30]\n",
      "  [ 23  31  30]\n",
      "  [ 22  30  29]]\n",
      "\n",
      " ...\n",
      "\n",
      " [[159 132 111]\n",
      "  [159 132 111]\n",
      "  [159 132 111]\n",
      "  ...\n",
      "  [ 27  33  32]\n",
      "  [ 27  33  32]\n",
      "  [ 28  34  33]]\n",
      "\n",
      " [[159 132 111]\n",
      "  [159 132 111]\n",
      "  [159 132 111]\n",
      "  ...\n",
      "  [ 27  33  32]\n",
      "  [ 27  33  32]\n",
      "  [ 28  34  33]]\n",
      "\n",
      " [[159 132 111]\n",
      "  [159 132 111]\n",
      "  [159 132 111]\n",
      "  ...\n",
      "  [ 26  32  31]\n",
      "  [ 25  31  30]\n",
      "  [ 26  32  31]]]\n"
     ]
    }
   ],
   "source": [
    "import cv2\n",
    "import numpy as np\n",
    "\n",
    "# Cargar una imagen desde el archivo\n",
    "imagen = cv2.imread('Isabel.jpeg')\n",
    "\n",
    "# Verifica si la imagen se ha cargado correctamente\n",
    "if imagen is not None:\n",
    "    # Convierte la imagen en una matriz NumPy\n",
    "    matriz = np.array(imagen)\n",
    "    \n",
    "    # Ahora puedes trabajar con la matriz de la imagen\n",
    "    print(\"Matriz de la imagen:\")\n",
    "    print(matriz)\n",
    "else:\n",
    "    print(\"No se pudo cargar la imagen.\")\n"
   ]
  },
  {
   "cell_type": "code",
   "execution_count": null,
   "id": "4e45d3e5",
   "metadata": {},
   "outputs": [
    {
     "name": "stderr",
     "output_type": "stream",
     "text": [
      "Warning: Ignoring XDG_SESSION_TYPE=wayland on Gnome. Use QT_QPA_PLATFORM=wayland to run on Wayland anyway.\n"
     ]
    }
   ],
   "source": [
    "cv2.imwrite('matriz_imagen.png', matriz)\n",
    "cv2.imshow('Mi Imagen', matriz)\n",
    "cv2.waitKey(0)\n",
    "cv2.destroyAllWindows()"
   ]
  },
  {
   "cell_type": "code",
   "execution_count": null,
   "id": "1c6ab41d-98b1-424d-874e-72eb9844c5af",
   "metadata": {},
   "outputs": [],
   "source": []
  },
  {
   "cell_type": "code",
   "execution_count": null,
   "id": "92bf1992-7f38-4eee-afab-8b30463ac9ab",
   "metadata": {},
   "outputs": [],
   "source": []
  }
 ],
 "metadata": {
  "kernelspec": {
   "display_name": "Python 3 (ipykernel)",
   "language": "python",
   "name": "python3"
  },
  "language_info": {
   "codemirror_mode": {
    "name": "ipython",
    "version": 3
   },
   "file_extension": ".py",
   "mimetype": "text/x-python",
   "name": "python",
   "nbconvert_exporter": "python",
   "pygments_lexer": "ipython3",
   "version": "3.12.3"
  }
 },
 "nbformat": 4,
 "nbformat_minor": 5
}
